{
 "metadata": {
  "language_info": {
   "codemirror_mode": {
    "name": "ipython",
    "version": 3
   },
   "file_extension": ".py",
   "mimetype": "text/x-python",
   "name": "python",
   "nbconvert_exporter": "python",
   "pygments_lexer": "ipython3",
   "version": "3.8.5-final"
  },
  "orig_nbformat": 2,
  "kernelspec": {
   "name": "python3",
   "display_name": "Python 3",
   "language": "python"
  }
 },
 "nbformat": 4,
 "nbformat_minor": 2,
 "cells": [
  {
   "cell_type": "code",
   "execution_count": 1,
   "metadata": {},
   "outputs": [],
   "source": [
    "import pandas as pd\n",
    "import univariate as uv"
   ]
  },
  {
   "cell_type": "code",
   "execution_count": 2,
   "metadata": {},
   "outputs": [],
   "source": [
    "data = pd.read_csv(\"hr_analytics.csv\")"
   ]
  },
  {
   "cell_type": "code",
   "execution_count": 3,
   "metadata": {},
   "outputs": [
    {
     "output_type": "execute_result",
     "data": {
      "text/plain": [
       "{'min': 20,\n",
       " 'max': 60,\n",
       " 'range': 40,\n",
       " 'variance': 58.6781921969189,\n",
       " 'standard_deviation': 7.660169201585491,\n",
       " 'mean': 34.80391548679025,\n",
       " 'median': 33.0,\n",
       " 'skewness': 1.0074317710382241,\n",
       " 'kutosis': 0.7923533691940756,\n",
       " 'quant25': 29.0,\n",
       " 'quant75': 39.0,\n",
       " 'IQR': 10.0,\n",
       " 'whisker_low': 14.0,\n",
       " 'whisker_high': 54.0}"
      ]
     },
     "metadata": {},
     "execution_count": 3
    }
   ],
   "source": [
    "uv.descriptive_stats(data['age'])"
   ]
  },
  {
   "cell_type": "code",
   "execution_count": null,
   "metadata": {},
   "outputs": [],
   "source": []
  },
  {
   "cell_type": "code",
   "execution_count": null,
   "metadata": {},
   "outputs": [],
   "source": []
  }
 ]
}